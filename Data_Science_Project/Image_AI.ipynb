{
 "cells": [
  {
   "cell_type": "markdown",
   "id": "1df77442",
   "metadata": {},
   "source": [
    "# Using ImageAI for Image Prediction\n",
    "\n",
    "This is a mini-project for the Zero-To-Mastery Python Developer course \n",
    "\n",
    "Documentation can be found [here](https://github.com/OlafenwaMoses/ImageAI/blob/master/imageai/Classification/README.md)\n",
    "\n",
    "Using the model MobileNetV2 because it is a lightweight model."
   ]
  },
  {
   "cell_type": "code",
   "execution_count": 1,
   "id": "82e8fbd0",
   "metadata": {},
   "outputs": [],
   "source": [
    "from imageai.Prediction import ImagePrediction\n",
    "import os"
   ]
  },
  {
   "cell_type": "code",
   "execution_count": 2,
   "id": "9810fc6f",
   "metadata": {},
   "outputs": [],
   "source": [
    "execution_path = os.getcwd()"
   ]
  },
  {
   "cell_type": "code",
   "execution_count": 3,
   "id": "03616e82",
   "metadata": {},
   "outputs": [],
   "source": [
    "prediction = ImagePrediction()"
   ]
  },
  {
   "cell_type": "markdown",
   "id": "c32ed679",
   "metadata": {},
   "source": [
    "## Load MobileNetV2 Model"
   ]
  },
  {
   "cell_type": "code",
   "execution_count": 5,
   "id": "47242cdf",
   "metadata": {},
   "outputs": [],
   "source": [
    "prediction.setModelTypeAsMobileNetV2()"
   ]
  },
  {
   "cell_type": "code",
   "execution_count": 6,
   "id": "89de1b16",
   "metadata": {},
   "outputs": [],
   "source": [
    "prediction.setModelPath(os.path.join(execution_path, \"mobilenet_v2.h5\"))"
   ]
  },
  {
   "cell_type": "code",
   "execution_count": 7,
   "id": "7315f510",
   "metadata": {},
   "outputs": [],
   "source": [
    "prediction.loadModel()"
   ]
  },
  {
   "cell_type": "code",
   "execution_count": 8,
   "id": "126513b7",
   "metadata": {},
   "outputs": [
    {
     "name": "stdout",
     "output_type": "stream",
     "text": [
      "Downloading data from https://storage.googleapis.com/download.tensorflow.org/data/imagenet_class_index.json\n",
      "40960/35363 [==================================] - 0s 1us/step\n",
      "leopard  :  1.841278187930584\n",
      "lynx  :  1.8284115940332413\n",
      "cheetah  :  1.8218128010630608\n",
      "jaguar  :  1.6497427597641945\n",
      "impala  :  0.8935719728469849\n"
     ]
    }
   ],
   "source": [
    "predictions, probabilities = prediction.classifyImage(os.path.join(execution_path, \"images/giraffe.jpg\"), result_count=5 )\n",
    "for eachPrediction, eachProbability in zip(predictions, probabilities):\n",
    "    print(eachPrediction , \" : \" , eachProbability)"
   ]
  },
  {
   "cell_type": "code",
   "execution_count": 9,
   "id": "997d2357",
   "metadata": {},
   "outputs": [],
   "source": [
    "# create a function for predictions\n",
    "\n",
    "def image_prediction(image_name, pred_count=5):\n",
    "    \n",
    "    predictions, probabilities = prediction.classifyImage(os.path.join(execution_path, f\"images/{image_name}\"), result_count=pred_count)\n",
    "    for eachPrediction, eachProbability in zip(predictions, probabilities):\n",
    "        print(eachPrediction , \" : \" , eachProbability)\n",
    "    "
   ]
  },
  {
   "cell_type": "markdown",
   "id": "2a628f9c",
   "metadata": {},
   "source": [
    "## Make Predictions"
   ]
  },
  {
   "cell_type": "code",
   "execution_count": 10,
   "id": "4e53ae18",
   "metadata": {},
   "outputs": [
    {
     "name": "stdout",
     "output_type": "stream",
     "text": [
      "common_iguana  :  21.163669228553772\n",
      "American_alligator  :  20.356735587120056\n",
      "pedestal  :  3.057633712887764\n",
      "triceratops  :  2.950582094490528\n",
      "African_crocodile  :  1.924213021993637\n"
     ]
    }
   ],
   "source": [
    "image_prediction('godzilla.jpg')"
   ]
  },
  {
   "cell_type": "code",
   "execution_count": 11,
   "id": "98a20670",
   "metadata": {},
   "outputs": [
    {
     "name": "stdout",
     "output_type": "stream",
     "text": [
      "boathouse  :  22.32779711484909\n",
      "church  :  9.003543853759766\n",
      "palace  :  6.23006671667099\n",
      "lakeside  :  3.6008939146995544\n",
      "beacon  :  1.7462363466620445\n"
     ]
    }
   ],
   "source": [
    "image_prediction('house.jpg')"
   ]
  },
  {
   "cell_type": "code",
   "execution_count": 12,
   "id": "986d66a3",
   "metadata": {},
   "outputs": [
    {
     "name": "stdout",
     "output_type": "stream",
     "text": [
      "leopard  :  1.841278187930584\n",
      "lynx  :  1.8284115940332413\n",
      "cheetah  :  1.8218128010630608\n",
      "jaguar  :  1.6497427597641945\n",
      "impala  :  0.8935719728469849\n"
     ]
    }
   ],
   "source": [
    "image_prediction('giraffe.jpg')"
   ]
  },
  {
   "cell_type": "markdown",
   "id": "2122b22d",
   "metadata": {},
   "source": [
    "## Results:\n",
    "\n",
    "The predictions are not very good. This is a lightweight model so it is expected that accuracy will be lost due to the smaller model.\n",
    "\n",
    "### This Giraffe was predicted as Leopard with 1.85 probability\n",
    "\n",
    "<img src=\"images/giraffe.jpg\" alt=\"Giraffe\"/>\n",
    "\n",
    "### This Godzilla was predicted as Common Iguana with 21.2 probability\n",
    "\n",
    "<img src=\"images/godzilla.jpg\" alt=\"Godzilla\"/>\n",
    "\n",
    "### This House was predicted as Boathouse with 22.33 probability\n",
    "\n",
    "<img src=\"images/house.jpg\" alt=\"House\"/>"
   ]
  }
 ],
 "metadata": {
  "kernelspec": {
   "display_name": "Python 3",
   "language": "python",
   "name": "python3"
  },
  "language_info": {
   "codemirror_mode": {
    "name": "ipython",
    "version": 3
   },
   "file_extension": ".py",
   "mimetype": "text/x-python",
   "name": "python",
   "nbconvert_exporter": "python",
   "pygments_lexer": "ipython3",
   "version": "3.6.13"
  }
 },
 "nbformat": 4,
 "nbformat_minor": 5
}
